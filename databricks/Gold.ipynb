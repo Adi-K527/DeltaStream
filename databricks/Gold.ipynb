{
 "cells": [
  {
   "cell_type": "markdown",
   "metadata": {
    "application/vnd.databricks.v1+cell": {
     "cellMetadata": {
      "byteLimit": 2048000,
      "rowLimit": 10000
     },
     "inputWidgets": {},
     "nuid": "7394ea34-d670-492c-bd7a-3154edddac78",
     "showTitle": false,
     "tableResultSettingsMap": {},
     "title": ""
    }
   },
   "source": [
    "# DeltaStream Gold Layer\n",
    "---\n",
    "Will perform the following in this stage:\n",
    "- Read silver layer data\n",
    "- Create seperate aggregate views\n",
    "  - How average speed and vertical speed change with wind speed\n",
    "  - Speed and altitude changes over time by aircraft\n",
    "  - Number of planes on the ground, taking off/landing, in the air\n",
    "  - Whole data\n",
    "- Create gold delta tables for all\n",
    "  - Perform upserts\n",
    "- Send to S3"
   ]
  },
  {
   "cell_type": "code",
   "execution_count": 0,
   "metadata": {
    "application/vnd.databricks.v1+cell": {
     "cellMetadata": {
      "byteLimit": 2048000,
      "rowLimit": 10000
     },
     "inputWidgets": {},
     "nuid": "feb0efdc-f93c-4c73-ba44-9baf326001c9",
     "showTitle": false,
     "tableResultSettingsMap": {},
     "title": ""
    }
   },
   "outputs": [],
   "source": [
    "from pyspark.sql.functions import (from_json, col, when, from_unixtime, \n",
    "                                   round, schema_of_json, lit, date_format, \n",
    "                                   row_number, abs, to_timestamp)\n",
    "from pyspark.sql.types import *\n",
    "from pyspark.sql.window import Window\n",
    "from pyspark.sql.utils import AnalysisException"
   ]
  },
  {
   "cell_type": "code",
   "execution_count": 0,
   "metadata": {
    "application/vnd.databricks.v1+cell": {
     "cellMetadata": {
      "byteLimit": 2048000,
      "rowLimit": 10000
     },
     "inputWidgets": {},
     "nuid": "91ee75f8-ae3b-41a4-a724-a133798df957",
     "showTitle": false,
     "tableResultSettingsMap": {},
     "title": ""
    }
   },
   "outputs": [],
   "source": [
    "silver_data_df = spark.sql(\"SELECT * FROM delta_silver\")"
   ]
  },
  {
   "cell_type": "code",
   "execution_count": 0,
   "metadata": {
    "application/vnd.databricks.v1+cell": {
     "cellMetadata": {
      "byteLimit": 2048000,
      "rowLimit": 10000
     },
     "inputWidgets": {},
     "nuid": "93d73f20-d364-48c9-87e4-83ea5d662763",
     "showTitle": false,
     "tableResultSettingsMap": {},
     "title": ""
    }
   },
   "outputs": [],
   "source": [
    "display(silver_data_df)"
   ]
  },
  {
   "cell_type": "code",
   "execution_count": 0,
   "metadata": {
    "application/vnd.databricks.v1+cell": {
     "cellMetadata": {
      "byteLimit": 2048000,
      "implicitDf": true,
      "rowLimit": 10000
     },
     "inputWidgets": {},
     "nuid": "ddcbe3c5-f27e-4af4-90c1-79f2b98d8d80",
     "showTitle": false,
     "tableResultSettingsMap": {},
     "title": ""
    }
   },
   "outputs": [],
   "source": [
    "%sql\n",
    "CREATE TABLE IF NOT EXISTS speed_table (\n",
    "  avg_speed DOUBLE,\n",
    "  avg_vert_speed DOUBLE,\n",
    "  wind_speed DOUBLE\n",
    ") USING DELTA;\n",
    "\n",
    "\n",
    "CREATE TABLE IF NOT EXISTS changes_over_time (\n",
    "  callsign STRING,\n",
    "  min_time_date STRING,\n",
    "  max_time_date STRING,\n",
    "  min_time DATE,\n",
    "  max_time DATE,\n",
    "  time_diff_seconds INT,\n",
    "  old_altitude DOUBLE,\n",
    "  new_altitude DOUBLE,\n",
    "  altitude_change_rate DOUBLE,\n",
    "  min_speed DOUBLE,\n",
    "  max_speed DOUBLE\n",
    ") USING DELTA;\n",
    "\n",
    "\n",
    "CREATE TABLE IF NOT EXISTS airplane_counts (\n",
    "  num_on_ground DOUBLE, \n",
    "  num_flying DOUBLE, \n",
    "  num_takeoff DOUBLE, \n",
    "  num_landing DOUBLE\n",
    ") USING DELTA;"
   ]
  },
  {
   "cell_type": "markdown",
   "metadata": {
    "application/vnd.databricks.v1+cell": {
     "cellMetadata": {
      "byteLimit": 2048000,
      "rowLimit": 10000
     },
     "inputWidgets": {},
     "nuid": "96421f1a-ee50-4313-96a4-a5cb5f6ecbe4",
     "showTitle": false,
     "tableResultSettingsMap": {},
     "title": ""
    }
   },
   "source": [
    "#### How average speed and vertical speed change with wind speed\n",
    "---"
   ]
  },
  {
   "cell_type": "code",
   "execution_count": 0,
   "metadata": {
    "application/vnd.databricks.v1+cell": {
     "cellMetadata": {
      "byteLimit": 2048000,
      "implicitDf": true,
      "rowLimit": 10000
     },
     "inputWidgets": {},
     "nuid": "9f0644a8-7e1b-473e-9e6f-543f96909c64",
     "showTitle": false,
     "tableResultSettingsMap": {},
     "title": ""
    }
   },
   "outputs": [],
   "source": [
    "speed_table_df = spark.sql(\"\"\"\n",
    "                           \n",
    "    SELECT AVG(speed) as avg_speed, AVG(vertical_speed) as avg_vert_speed, wind_speed\n",
    "    FROM delta_silver\n",
    "    WHERE on_ground = 'false'\n",
    "    GROUP BY wind_speed\n",
    "    HAVING wind_speed > 0\n",
    "    ORDER BY wind_speed DESC\n",
    "\n",
    "\"\"\")\n",
    "display(speed_table_df)\n",
    "speed_table_df.createOrReplaceTempView(\"speed_table_temp\")"
   ]
  },
  {
   "cell_type": "markdown",
   "metadata": {
    "application/vnd.databricks.v1+cell": {
     "cellMetadata": {
      "byteLimit": 2048000,
      "rowLimit": 10000
     },
     "inputWidgets": {},
     "nuid": "c83c4581-93ce-41f5-8224-de3f6ff51852",
     "showTitle": false,
     "tableResultSettingsMap": {},
     "title": ""
    }
   },
   "source": [
    "#### Speed and altitude changes over time by aircraft\n",
    "---"
   ]
  },
  {
   "cell_type": "code",
   "execution_count": 0,
   "metadata": {
    "application/vnd.databricks.v1+cell": {
     "cellMetadata": {
      "byteLimit": 2048000,
      "implicitDf": true,
      "rowLimit": 10000
     },
     "inputWidgets": {},
     "nuid": "00002ec6-6c48-4371-acbc-7408271503e3",
     "showTitle": false,
     "tableResultSettingsMap": {
      "0": {
       "dataGridStateBlob": "{\"version\":1,\"tableState\":{\"columnPinning\":{\"left\":[\"#row_number#\"],\"right\":[]},\"columnSizing\":{},\"columnVisibility\":{}},\"settings\":{\"columns\":{}},\"syncTimestamp\":1756333304270}",
       "filterBlob": null,
       "queryPlanFiltersBlob": null,
       "tableResultIndex": 0
      }
     },
     "title": ""
    }
   },
   "outputs": [],
   "source": [
    "changes_over_time_df = spark.sql(\"\"\" \n",
    "\n",
    "    WITH min_max_times AS (\n",
    "        SELECT\n",
    "            callsign,\n",
    "            MIN(time_position) AS min_time_date,\n",
    "            MAX(time_position) AS max_time_date,\n",
    "            MIN(to_timestamp(time_position, 'MM-dd-yyyy HH:mm:ss')) AS min_time,\n",
    "            MAX(to_timestamp(time_position, 'MM-dd-yyyy HH:mm:ss')) AS max_time,\n",
    "            MIN(speed) AS min_speed,\n",
    "            MAX(speed) AS max_speed\n",
    "        FROM delta_silver\n",
    "        GROUP BY callsign\n",
    "    ),\n",
    "\n",
    "    d_old_dedup AS (\n",
    "        SELECT *\n",
    "        FROM (\n",
    "            SELECT *,\n",
    "                ROW_NUMBER() OVER (PARTITION BY callsign, time_position ORDER BY altitude DESC) AS rn\n",
    "            FROM delta_silver\n",
    "        ) t\n",
    "        WHERE rn = 1\n",
    "    ),\n",
    "\n",
    "    d_new_dedup AS (\n",
    "        SELECT *\n",
    "        FROM (\n",
    "            SELECT *,\n",
    "                ROW_NUMBER() OVER (PARTITION BY callsign, time_position ORDER BY altitude DESC) AS rn\n",
    "            FROM delta_silver\n",
    "        ) t\n",
    "        WHERE rn = 1\n",
    "    )\n",
    "\n",
    "    SELECT\n",
    "        m.callsign,\n",
    "        m.min_time_date,\n",
    "        m.max_time_date,\n",
    "        m.min_time,\n",
    "        m.max_time,\n",
    "        UNIX_TIMESTAMP(m.max_time) - UNIX_TIMESTAMP(m.min_time) AS time_diff_seconds,\n",
    "        CAST(d_old.altitude AS double) AS old_altitude,\n",
    "        CAST(d_new.altitude AS double) AS new_altitude,\n",
    "        (new_altitude - old_altitude) / (time_diff_seconds + 0.0001) AS altitude_change_rate,\n",
    "        m.min_speed,\n",
    "        m.max_speed\n",
    "    FROM min_max_times m\n",
    "    LEFT JOIN d_old_dedup d_old\n",
    "        ON m.callsign = d_old.callsign AND m.min_time_date = d_old.time_position\n",
    "    LEFT JOIN d_new_dedup d_new\n",
    "        ON m.callsign = d_new.callsign AND m.max_time_date = d_new.time_position;\n",
    "\n",
    "\"\"\")\n",
    "display(changes_over_time_df)\n",
    "changes_over_time_df.createOrReplaceTempView(\"changes_over_time_temp\")"
   ]
  },
  {
   "cell_type": "markdown",
   "metadata": {
    "application/vnd.databricks.v1+cell": {
     "cellMetadata": {
      "byteLimit": 2048000,
      "rowLimit": 10000
     },
     "inputWidgets": {},
     "nuid": "e181d53e-8d49-4bd3-a71b-ed7d755a47e4",
     "showTitle": false,
     "tableResultSettingsMap": {},
     "title": ""
    }
   },
   "source": [
    "#### Number of planes on the ground, taking off/landing, in the air\n",
    "---"
   ]
  },
  {
   "cell_type": "code",
   "execution_count": 0,
   "metadata": {
    "application/vnd.databricks.v1+cell": {
     "cellMetadata": {
      "byteLimit": 2048000,
      "implicitDf": true,
      "rowLimit": 10000
     },
     "inputWidgets": {},
     "nuid": "78cd23e8-4f75-4bd7-a5b3-8dc10b8a7adb",
     "showTitle": false,
     "tableResultSettingsMap": {},
     "title": ""
    }
   },
   "outputs": [],
   "source": [
    "airplane_counts_df = spark.sql(\"\"\" \n",
    "\n",
    "  WITH airplanes_latest AS (\n",
    "    SELECT *, ROW_NUMBER() OVER (PARTITION BY callsign ORDER BY time_position DESC) AS rn\n",
    "    FROM delta_silver\n",
    "  )\n",
    "\n",
    "  SELECT\n",
    "    COUNT(CASE WHEN CAST(altitude AS double) = 0 THEN 1 END) AS num_on_ground,\n",
    "    COUNT(CASE WHEN CAST(altitude AS double) > 2000 THEN 1 END) AS num_flying,\n",
    "    COUNT(CASE WHEN CAST(altitude AS double) > 0 AND CAST(altitude AS double) <= 2000 AND vertical_speed > 0 THEN 1 END) AS num_takeoff,\n",
    "    COUNT(CASE WHEN CAST(altitude AS double) > 0 AND CAST(altitude AS double) <= 2000 AND vertical_speed < 0 THEN 1 END) AS num_landing\n",
    "  FROM airplanes_latest\n",
    "  WHERE rn = 1;\n",
    "\n",
    "\"\"\")\n",
    "display(airplane_counts_df)\n",
    "airplane_counts_df.createOrReplaceTempView(\"airplane_counts_temp\")"
   ]
  },
  {
   "cell_type": "markdown",
   "metadata": {
    "application/vnd.databricks.v1+cell": {
     "cellMetadata": {},
     "inputWidgets": {},
     "nuid": "85953b13-1272-4f2c-97f9-ab457c8ef3b4",
     "showTitle": false,
     "tableResultSettingsMap": {},
     "title": ""
    }
   },
   "source": [
    "#### Save aggregates to delta tables\n",
    "---"
   ]
  },
  {
   "cell_type": "code",
   "execution_count": 0,
   "metadata": {
    "application/vnd.databricks.v1+cell": {
     "cellMetadata": {
      "byteLimit": 2048000,
      "implicitDf": true,
      "rowLimit": 10000
     },
     "inputWidgets": {},
     "nuid": "82c601b6-c3d6-4c12-9547-546cbf86efeb",
     "showTitle": false,
     "tableResultSettingsMap": {},
     "title": ""
    }
   },
   "outputs": [],
   "source": [
    "%sql\n",
    "INSERT INTO speed_table\n",
    "SELECT * FROM speed_table_temp;\n",
    "\n",
    "\n",
    "MERGE INTO changes_over_time AS TARGET\n",
    "USING changes_over_time_temp AS SOURCE\n",
    "ON TARGET.callsign = SOURCE.callsign\n",
    "WHEN MATCHED THEN \n",
    "  UPDATE SET \n",
    "    target.max_time_date = source.max_time_date,\n",
    "    target.max_time = source.max_time,\n",
    "    target.time_diff_seconds = UNIX_TIMESTAMP(source.max_time) - UNIX_TIMESTAMP(target.min_time),\n",
    "    target.new_altitude = source.new_altitude,\n",
    "    target.altitude_change_rate = (source.new_altitude - target.old_altitude) / \n",
    "                                  ((UNIX_TIMESTAMP(source.max_time) - UNIX_TIMESTAMP(target.min_time)) + 0.0001),\n",
    "    target.max_speed = source.max_speed\n",
    "WHEN NOT MATCHED THEN INSERT *;\n",
    "\n",
    "\n",
    "\n",
    "INSERT INTO airplane_counts\n",
    "SELECT * FROM airplane_counts_temp;"
   ]
  },
  {
   "cell_type": "code",
   "execution_count": 0,
   "metadata": {
    "application/vnd.databricks.v1+cell": {
     "cellMetadata": {},
     "inputWidgets": {},
     "nuid": "230c6eb0-0db6-42bc-8c63-86047acd1237",
     "showTitle": false,
     "tableResultSettingsMap": {},
     "title": ""
    }
   },
   "outputs": [],
   "source": []
  }
 ],
 "metadata": {
  "application/vnd.databricks.v1+notebook": {
   "computePreferences": {
    "hardware": {
     "accelerator": null,
     "gpuPoolId": null,
     "memory": null
    }
   },
   "dashboards": [],
   "environmentMetadata": null,
   "inputWidgetPreferences": null,
   "language": "python",
   "notebookMetadata": {
    "mostRecentlyExecutedCommandWithImplicitDF": {
     "commandId": 6772639678957264,
     "dataframes": [
      "_sqldf"
     ]
    },
    "pythonIndentUnit": 4
   },
   "notebookName": "Gold",
   "widgets": {}
  },
  "language_info": {
   "name": "python"
  }
 },
 "nbformat": 4,
 "nbformat_minor": 0
}
