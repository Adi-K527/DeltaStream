{
 "cells": [
  {
   "cell_type": "markdown",
   "metadata": {
    "application/vnd.databricks.v1+cell": {
     "cellMetadata": {},
     "inputWidgets": {},
     "nuid": "ddda2867-f9da-4ba7-836d-9922cbd1700f",
     "showTitle": false,
     "tableResultSettingsMap": {},
     "title": ""
    }
   },
   "source": [
    "# DeltaStream Bronze Layer\n",
    "---\n",
    "Will perform the following in this stage:\n",
    "- Read data from Kafka topics\n",
    "- Convert data to delta tables\n",
    "- Store data in S3"
   ]
  },
  {
   "cell_type": "code",
   "execution_count": 0,
   "metadata": {
    "application/vnd.databricks.v1+cell": {
     "cellMetadata": {
      "byteLimit": 2048000,
      "rowLimit": 10000
     },
     "inputWidgets": {},
     "nuid": "87580f00-c273-44ce-b2eb-ebc6a6092cd9",
     "showTitle": false,
     "tableResultSettingsMap": {},
     "title": ""
    }
   },
   "outputs": [],
   "source": [
    "kafka_instance = \"44.197.229.129:9092\""
   ]
  },
  {
   "cell_type": "code",
   "execution_count": 0,
   "metadata": {
    "application/vnd.databricks.v1+cell": {
     "cellMetadata": {
      "byteLimit": 2048000,
      "rowLimit": 10000
     },
     "inputWidgets": {},
     "nuid": "7e09044c-f11c-4cdd-a293-be8b597bd5e4",
     "showTitle": false,
     "tableResultSettingsMap": {},
     "title": ""
    }
   },
   "outputs": [],
   "source": [
    "raw_airplane_stream = (spark.read\n",
    "                            .format(\"kafka\")\n",
    "                            .option(\"kafka.bootstrap.servers\", kafka_instance)\n",
    "                            .option(\"subscribe\", \"airplane-topic\")\n",
    "                            .load())\n",
    "\n",
    "raw_weather_stream = (spark.read\n",
    "                            .format(\"kafka\")\n",
    "                            .option(\"kafka.bootstrap.servers\", kafka_instance)\n",
    "                            .option(\"subscribe\", \"weather-topic\")\n",
    "                            .load())"
   ]
  },
  {
   "cell_type": "code",
   "execution_count": 0,
   "metadata": {
    "application/vnd.databricks.v1+cell": {
     "cellMetadata": {
      "byteLimit": 2048000,
      "rowLimit": 10000
     },
     "inputWidgets": {},
     "nuid": "2002e142-3e7f-4440-87a3-29122ae68bf3",
     "showTitle": false,
     "tableResultSettingsMap": {},
     "title": ""
    }
   },
   "outputs": [],
   "source": [
    "raw_airplane_df = raw_airplane_stream.selectExpr(\"CAST(value AS STRING)\")\n",
    "raw_weather_df  = raw_weather_stream.selectExpr(\"CAST(value AS STRING)\")"
   ]
  },
  {
   "cell_type": "code",
   "execution_count": 0,
   "metadata": {
    "application/vnd.databricks.v1+cell": {
     "cellMetadata": {
      "byteLimit": 2048000,
      "rowLimit": 10000
     },
     "inputWidgets": {},
     "nuid": "c2331c42-2bd4-40e0-b62d-cd036c9b9423",
     "showTitle": false,
     "tableResultSettingsMap": {},
     "title": ""
    }
   },
   "outputs": [],
   "source": [
    "display(raw_airplane_df)"
   ]
  },
  {
   "cell_type": "code",
   "execution_count": 0,
   "metadata": {
    "application/vnd.databricks.v1+cell": {
     "cellMetadata": {
      "byteLimit": 2048000,
      "rowLimit": 10000
     },
     "inputWidgets": {},
     "nuid": "2ea7bb92-f802-4312-9462-25d4bb751498",
     "showTitle": false,
     "tableResultSettingsMap": {},
     "title": ""
    }
   },
   "outputs": [],
   "source": [
    "display(raw_weather_df)"
   ]
  },
  {
   "cell_type": "code",
   "execution_count": 0,
   "metadata": {
    "application/vnd.databricks.v1+cell": {
     "cellMetadata": {
      "byteLimit": 2048000,
      "rowLimit": 10000
     },
     "inputWidgets": {},
     "nuid": "afcfc04c-40ff-474b-91fa-76735a146824",
     "showTitle": false,
     "tableResultSettingsMap": {},
     "title": ""
    }
   },
   "outputs": [],
   "source": [
    "airplane_delta_df = (raw_airplane_df.write.format(\"delta\")\n",
    "                    .mode(\"append\")\n",
    "                    .options(mergeSchema=True) #enables evolving schemas\n",
    "                    .saveAsTable(\"airplane_delta_bronze\"))\n",
    "\n",
    "\n",
    "weather_delta_df = (raw_weather_df.write.format(\"delta\")\n",
    "                    .mode(\"append\")\n",
    "                    .options(mergeSchema=True)\n",
    "                    .saveAsTable(\"weather_delta_bronze\"))"
   ]
  }
 ],
 "metadata": {
  "application/vnd.databricks.v1+notebook": {
   "computePreferences": {
    "hardware": {
     "accelerator": null,
     "gpuPoolId": null,
     "memory": null
    }
   },
   "dashboards": [],
   "environmentMetadata": {
    "base_environment": "",
    "environment_version": "3"
   },
   "inputWidgetPreferences": null,
   "language": "python",
   "notebookMetadata": {
    "pythonIndentUnit": 4
   },
   "notebookName": "Bronze",
   "widgets": {}
  },
  "language_info": {
   "name": "python"
  }
 },
 "nbformat": 4,
 "nbformat_minor": 0
}
