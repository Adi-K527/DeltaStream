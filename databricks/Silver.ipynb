{
 "cells": [
  {
   "cell_type": "markdown",
   "metadata": {
    "application/vnd.databricks.v1+cell": {
     "cellMetadata": {},
     "inputWidgets": {},
     "nuid": "10db6f34-daed-4e0d-9b2c-e49a50c5ebda",
     "showTitle": false,
     "tableResultSettingsMap": {},
     "title": ""
    }
   },
   "source": [
    "# DeltaStream Silver Layer\n",
    "---\n",
    "Will perform the following in this stage:\n",
    "- Read bronze layer data\n",
    "- Process and clean Airplane data\n",
    "  - Preprocess columns\n",
    "  - Handle null/missing values\n",
    "- Process and clean Weather data\n",
    "  - Extract relavent data\n",
    "- Join weather and airplane data by timestamp\n",
    "- Save final data as silver delta table"
   ]
  },
  {
   "cell_type": "code",
   "execution_count": 0,
   "metadata": {
    "application/vnd.databricks.v1+cell": {
     "cellMetadata": {
      "byteLimit": 2048000,
      "rowLimit": 10000
     },
     "inputWidgets": {},
     "nuid": "77ce3f85-b546-437b-94a2-604804c4521f",
     "showTitle": false,
     "tableResultSettingsMap": {},
     "title": ""
    }
   },
   "outputs": [],
   "source": [
    "from pyspark.sql.functions import (from_json, col, when, from_unixtime, \n",
    "                                   round, schema_of_json, lit, date_format, \n",
    "                                   row_number, abs, to_timestamp)\n",
    "from pyspark.sql.types import *\n",
    "from pyspark.sql.window import Window\n",
    "from pyspark.sql.utils import AnalysisException"
   ]
  },
  {
   "cell_type": "code",
   "execution_count": 0,
   "metadata": {
    "application/vnd.databricks.v1+cell": {
     "cellMetadata": {
      "byteLimit": 2048000,
      "rowLimit": 10000
     },
     "inputWidgets": {},
     "nuid": "a6cace98-38ba-4ad3-a16f-5073217a1abc",
     "showTitle": false,
     "tableResultSettingsMap": {},
     "title": ""
    }
   },
   "outputs": [],
   "source": [
    "airplane_df = spark.sql(\"SELECT * FROM airplane_delta_bronze\")\n",
    "weather_df  = spark.sql(\"SELECT * FROM weather_delta_bronze\")\n",
    "\n",
    "spark.sql(\"DROP TABLE IF EXISTS airplane_delta_silver\")\n",
    "spark.sql(\"DROP TABLE IF EXISTS weather_delta_silver\")"
   ]
  },
  {
   "cell_type": "markdown",
   "metadata": {
    "application/vnd.databricks.v1+cell": {
     "cellMetadata": {},
     "inputWidgets": {},
     "nuid": "614b7d4b-6f81-4bc7-99d8-ffdbb410e32a",
     "showTitle": false,
     "tableResultSettingsMap": {},
     "title": ""
    }
   },
   "source": [
    "</br></br>\n",
    "### Process Airplane Data\n",
    "---"
   ]
  },
  {
   "cell_type": "code",
   "execution_count": 0,
   "metadata": {
    "application/vnd.databricks.v1+cell": {
     "cellMetadata": {
      "byteLimit": 2048000,
      "rowLimit": 10000
     },
     "inputWidgets": {},
     "nuid": "097dfceb-2bfe-426e-bebd-b0d9138ed19c",
     "showTitle": false,
     "tableResultSettingsMap": {},
     "title": ""
    }
   },
   "outputs": [],
   "source": [
    "display(airplane_df)"
   ]
  },
  {
   "cell_type": "code",
   "execution_count": 0,
   "metadata": {
    "application/vnd.databricks.v1+cell": {
     "cellMetadata": {
      "byteLimit": 2048000,
      "rowLimit": 10000
     },
     "inputWidgets": {},
     "nuid": "82778061-85a8-4135-b37c-37f0d94cabb3",
     "showTitle": false,
     "tableResultSettingsMap": {},
     "title": ""
    }
   },
   "outputs": [],
   "source": [
    "schema = ArrayType(StringType())\n",
    "airplane_df_without_str = airplane_df.withColumn(\"value_array\", from_json(col(\"value\"), schema))\n",
    "\n",
    "new_airplane_df = (airplane_df_without_str.withColumn(\"icao24\",    col(\"value_array\")[0])\n",
    "                                    .withColumn(\"callsign\",        col(\"value_array\")[1])\n",
    "                                    .withColumn(\"origin_country\",  col(\"value_array\")[2])\n",
    "                                    .withColumn(\"time_position\",   col(\"value_array\")[3])\n",
    "                                    .withColumn(\"last_contact\",    col(\"value_array\")[4])\n",
    "                                    .withColumn(\"longtitude\",      col(\"value_array\")[5])\n",
    "                                    .withColumn(\"latitude\",        col(\"value_array\")[6])\n",
    "                                    .withColumn(\"baro_altitude\",   col(\"value_array\")[7])\n",
    "                                    .withColumn(\"on_ground\",       col(\"value_array\")[8])\n",
    "                                    .withColumn(\"velocity\",        col(\"value_array\")[9])\n",
    "                                    .withColumn(\"true_track\",      col(\"value_array\")[10])\n",
    "                                    .withColumn(\"vertical_rate\",   col(\"value_array\")[11])\n",
    "                                    .withColumn(\"sensors\",         col(\"value_array\")[12])\n",
    "                                    .withColumn(\"geo_altitude\",    col(\"value_array\")[13])\n",
    "                                    .withColumn(\"squawk\",          col(\"value_array\")[14])\n",
    "                                    .withColumn(\"spi\",             col(\"value_array\")[15])\n",
    "                                    .withColumn(\"position_source\", col(\"value_array\")[16]))\n",
    "\n",
    "new_airplane_df = new_airplane_df.drop(\"value\", \"value_array\")\n",
    "new_airplane_df.createOrReplaceTempView(\"airplane_df\")"
   ]
  },
  {
   "cell_type": "code",
   "execution_count": 0,
   "metadata": {
    "application/vnd.databricks.v1+cell": {
     "cellMetadata": {
      "byteLimit": 2048000,
      "rowLimit": 10000
     },
     "inputWidgets": {},
     "nuid": "3cc59474-dcc0-47cc-950d-d8ab10cb4dba",
     "showTitle": false,
     "tableResultSettingsMap": {
      "0": {
       "dataGridStateBlob": "{\"version\":1,\"tableState\":{\"columnPinning\":{\"left\":[\"#row_number#\"],\"right\":[]},\"columnSizing\":{},\"columnVisibility\":{}},\"settings\":{\"columns\":{}},\"syncTimestamp\":1756267915435}",
       "filterBlob": null,
       "queryPlanFiltersBlob": null,
       "tableResultIndex": 0
      }
     },
     "title": ""
    }
   },
   "outputs": [],
   "source": [
    "display(new_airplane_df)"
   ]
  },
  {
   "cell_type": "code",
   "execution_count": 0,
   "metadata": {
    "application/vnd.databricks.v1+cell": {
     "cellMetadata": {
      "byteLimit": 2048000,
      "implicitDf": true,
      "rowLimit": 10000
     },
     "inputWidgets": {},
     "nuid": "71ec3d48-b13f-4f16-859e-cc8441b22085",
     "showTitle": false,
     "tableResultSettingsMap": {},
     "title": ""
    }
   },
   "outputs": [],
   "source": [
    "%sql\n",
    "SELECT baro_altitude, vertical_rate, geo_altitude\n",
    "FROM airplane_df\n",
    "WHERE on_ground = 'true'"
   ]
  },
  {
   "cell_type": "markdown",
   "metadata": {
    "application/vnd.databricks.v1+cell": {
     "cellMetadata": {},
     "inputWidgets": {},
     "nuid": "03ec38bd-510c-4bb5-8257-797f86111988",
     "showTitle": false,
     "tableResultSettingsMap": {},
     "title": ""
    }
   },
   "source": [
    "Since all the above fields are null when airplane is on the ground, can set to 0"
   ]
  },
  {
   "cell_type": "code",
   "execution_count": 0,
   "metadata": {
    "application/vnd.databricks.v1+cell": {
     "cellMetadata": {
      "byteLimit": 2048000,
      "rowLimit": 10000
     },
     "inputWidgets": {},
     "nuid": "ca04472f-87ac-488a-a443-7e7b07c035a6",
     "showTitle": false,
     "tableResultSettingsMap": {},
     "title": ""
    }
   },
   "outputs": [],
   "source": [
    "final_airplane_df = (new_airplane_df.withColumn(\"altitude\",       when(col(\"on_ground\") == 'true', \"0\").otherwise(col(\"baro_altitude\")))\n",
    "                                    .withColumn(\"vertical_rate\",  when(col(\"on_ground\") == 'true', \"0\").otherwise(col(\"vertical_rate\")))\n",
    "                                    .withColumn(\"time_position\",  from_unixtime(col(\"time_position\"), \"MM-dd-yyyy HH:mm:ss\"))\n",
    "                                    .withColumn(\"vertical_speed\", round((col(\"vertical_rate\") * 3.6) / 1.852, 2))\n",
    "                                    .withColumn(\"speed\",          round((col(\"velocity\") * 3.6) / 1.852, 2)))\n",
    "\n",
    "final_airplane_df = final_airplane_df.dropna(subset=[\"callsign\"]) \n",
    "final_airplane_df = final_airplane_df.filter(col(\"callsign\") != \"\")\n",
    "\n",
    "final_airplane_df = final_airplane_df.drop(\"velocity\", \"vertical_rate\", \"squawk\", \"spi\", \n",
    "                                           \"position_source\", \"sensors\", \"geo_altitude\", \n",
    "                                           \"last_contact\", \"baro_altitude\", \"icao24\")   "
   ]
  },
  {
   "cell_type": "code",
   "execution_count": 0,
   "metadata": {
    "application/vnd.databricks.v1+cell": {
     "cellMetadata": {
      "byteLimit": 2048000,
      "rowLimit": 10000
     },
     "inputWidgets": {},
     "nuid": "cf9aa7c5-924d-4e9e-add7-5a6f8eb0cb68",
     "showTitle": false,
     "tableResultSettingsMap": {
      "0": {
       "dataGridStateBlob": "{\"version\":1,\"tableState\":{\"columnPinning\":{\"left\":[\"#row_number#\"],\"right\":[]},\"columnSizing\":{},\"columnVisibility\":{}},\"settings\":{\"columns\":{}},\"syncTimestamp\":1756274185235}",
       "filterBlob": null,
       "queryPlanFiltersBlob": null,
       "tableResultIndex": 0
      }
     },
     "title": ""
    }
   },
   "outputs": [],
   "source": [
    "display(final_airplane_df)"
   ]
  },
  {
   "cell_type": "markdown",
   "metadata": {
    "application/vnd.databricks.v1+cell": {
     "cellMetadata": {},
     "inputWidgets": {},
     "nuid": "1e4e06c3-e3ae-49e9-8cbe-733a5de7b8e8",
     "showTitle": false,
     "tableResultSettingsMap": {},
     "title": ""
    }
   },
   "source": [
    "</br></br>\n",
    "### Process Weather Data\n",
    "---"
   ]
  },
  {
   "cell_type": "code",
   "execution_count": 0,
   "metadata": {
    "application/vnd.databricks.v1+cell": {
     "cellMetadata": {
      "byteLimit": 2048000,
      "rowLimit": 10000
     },
     "inputWidgets": {},
     "nuid": "b7b67e64-e685-49f1-83b5-8defd351d1ab",
     "showTitle": false,
     "tableResultSettingsMap": {},
     "title": ""
    }
   },
   "outputs": [],
   "source": [
    "display(weather_df)"
   ]
  },
  {
   "cell_type": "code",
   "execution_count": 0,
   "metadata": {
    "application/vnd.databricks.v1+cell": {
     "cellMetadata": {
      "byteLimit": 2048000,
      "rowLimit": 10000
     },
     "inputWidgets": {},
     "nuid": "3edc5677-43ea-436e-8c5f-df6dd8251165",
     "showTitle": false,
     "tableResultSettingsMap": {},
     "title": ""
    }
   },
   "outputs": [],
   "source": [
    "schema = schema_of_json(lit(weather_df.select(\"value\").first()[0]))\n",
    "new_weather_df = weather_df.withColumn(\"value_json\", from_json(col(\"value\"), schema))\n",
    "display(new_weather_df)"
   ]
  },
  {
   "cell_type": "code",
   "execution_count": 0,
   "metadata": {
    "application/vnd.databricks.v1+cell": {
     "cellMetadata": {
      "byteLimit": 2048000,
      "rowLimit": 10000
     },
     "inputWidgets": {},
     "nuid": "31dcce12-192c-48b5-8b80-c6266e28df85",
     "showTitle": false,
     "tableResultSettingsMap": {},
     "title": ""
    }
   },
   "outputs": [],
   "source": [
    "final_weather_df = (new_weather_df.withColumn(\"timestamp\",    date_format(col(\"value_json.data.timestamp\"), \"MM-dd-yyyy HH:mm:ss\"))\n",
    "                                .withColumn(\"dewpoint\",       col(\"value_json.data.dewpoint.value\"))\n",
    "                                .withColumn(\"temperature\",    col(\"value_json.data.temperature.value\"))\n",
    "                                .withColumn(\"visibility\",     round(col(\"value_json.data.visibility.value\") / 1000, 2))\n",
    "                                .withColumn(\"wind_speed\",     col(\"value_json.data.windSpeed.value\"))\n",
    "                                .withColumn(\"wind_direction\", col(\"value_json.data.windDirection.value\")))\n",
    "\n",
    "final_weather_df = final_weather_df.drop(\"value\", \"value_json\")\n",
    "final_weather_df = final_weather_df.dropDuplicates()"
   ]
  },
  {
   "cell_type": "code",
   "execution_count": 0,
   "metadata": {
    "application/vnd.databricks.v1+cell": {
     "cellMetadata": {
      "byteLimit": 2048000,
      "rowLimit": 10000
     },
     "inputWidgets": {},
     "nuid": "bcd6a3a4-b53e-4bb2-bc8e-46be76590303",
     "showTitle": false,
     "tableResultSettingsMap": {
      "0": {
       "dataGridStateBlob": "{\"version\":1,\"tableState\":{\"columnPinning\":{\"left\":[\"#row_number#\"],\"right\":[]},\"columnSizing\":{},\"columnVisibility\":{}},\"settings\":{\"columns\":{}},\"syncTimestamp\":1756276545812}",
       "filterBlob": null,
       "queryPlanFiltersBlob": null,
       "tableResultIndex": 0
      }
     },
     "title": ""
    }
   },
   "outputs": [],
   "source": [
    "display(final_weather_df)"
   ]
  },
  {
   "cell_type": "markdown",
   "metadata": {
    "application/vnd.databricks.v1+cell": {
     "cellMetadata": {},
     "inputWidgets": {},
     "nuid": "576c0312-5971-44a2-817c-881fbbdee487",
     "showTitle": false,
     "tableResultSettingsMap": {},
     "title": ""
    }
   },
   "source": [
    "</br></br>\n",
    "### Join and Store Weather and Airplane Data\n",
    "---"
   ]
  },
  {
   "cell_type": "code",
   "execution_count": 0,
   "metadata": {
    "application/vnd.databricks.v1+cell": {
     "cellMetadata": {
      "byteLimit": 2048000,
      "rowLimit": 10000
     },
     "inputWidgets": {},
     "nuid": "aa3b7646-7fdc-4150-b959-5c78ec4a81b0",
     "showTitle": false,
     "tableResultSettingsMap": {},
     "title": ""
    }
   },
   "outputs": [],
   "source": [
    "final_airplane_df = final_airplane_df.withColumn(\"time_position_ts\", to_timestamp(col(\"time_position\"), \"MM-dd-yyyy HH:mm:ss\"))\n",
    "final_weather_df  = final_weather_df.withColumn(\"timestamp_ts\", to_timestamp(col(\"timestamp\"), \"MM-dd-yyyy HH:mm:ss\"))\n",
    "\n",
    "df_joined = final_airplane_df.crossJoin(final_weather_df)\n",
    "df_joined = df_joined.withColumn(\"time_diff_sec\", abs(col(\"time_position_ts\").cast(\"long\") - col(\"timestamp_ts\").cast(\"long\")))\n",
    "\n",
    "window = Window.partitionBy(\"time_position_ts\").orderBy(\"time_diff_sec\")\n",
    "\n",
    "final_df = (df_joined.withColumn(\"rn\", row_number().over(window))\n",
    "                       .filter(col(\"rn\") == 1)\n",
    "                       .drop(\"rn\", \"time_diff_sec\"))\n",
    "\n",
    "final_df = final_df.drop(\"time_position_ts\", \"timestamp_ts\")"
   ]
  },
  {
   "cell_type": "code",
   "execution_count": 0,
   "metadata": {
    "application/vnd.databricks.v1+cell": {
     "cellMetadata": {
      "byteLimit": 2048000,
      "rowLimit": 10000
     },
     "inputWidgets": {},
     "nuid": "c183ee44-232d-4220-bf49-0a21194ee802",
     "showTitle": false,
     "tableResultSettingsMap": {
      "0": {
       "dataGridStateBlob": "{\"version\":1,\"tableState\":{\"columnPinning\":{\"left\":[\"#row_number#\"],\"right\":[]},\"columnSizing\":{},\"columnVisibility\":{}},\"settings\":{\"columns\":{}},\"syncTimestamp\":1756279505240}",
       "filterBlob": null,
       "queryPlanFiltersBlob": null,
       "tableResultIndex": 0
      }
     },
     "title": ""
    }
   },
   "outputs": [],
   "source": [
    "display(final_df)"
   ]
  },
  {
   "cell_type": "code",
   "execution_count": 0,
   "metadata": {
    "application/vnd.databricks.v1+cell": {
     "cellMetadata": {},
     "inputWidgets": {},
     "nuid": "ddc947cc-e89c-4de8-9a57-9948eb4411f3",
     "showTitle": false,
     "tableResultSettingsMap": {},
     "title": ""
    }
   },
   "outputs": [],
   "source": [
    "spark.sql(\"DROP TABLE IF EXISTS delta_silver\")"
   ]
  },
  {
   "cell_type": "code",
   "execution_count": 0,
   "metadata": {
    "application/vnd.databricks.v1+cell": {
     "cellMetadata": {
      "byteLimit": 2048000,
      "rowLimit": 10000
     },
     "inputWidgets": {},
     "nuid": "7da13241-fcb2-4fe8-b479-b6763fa9a07c",
     "showTitle": false,
     "tableResultSettingsMap": {},
     "title": ""
    }
   },
   "outputs": [],
   "source": [
    "(final_df.write.format(\"delta\")\n",
    "    .mode(\"overwrite\")\n",
    "    .option(\"overwriteSchema\", \"true\") \n",
    "    .saveAsTable(\"delta_silver\"))"
   ]
  }
 ],
 "metadata": {
  "application/vnd.databricks.v1+notebook": {
   "computePreferences": {
    "hardware": {
     "accelerator": null,
     "gpuPoolId": null,
     "memory": null
    }
   },
   "dashboards": [],
   "environmentMetadata": null,
   "inputWidgetPreferences": null,
   "language": "python",
   "notebookMetadata": {
    "mostRecentlyExecutedCommandWithImplicitDF": {
     "commandId": 7285226951701038,
     "dataframes": [
      "_sqldf"
     ]
    },
    "pythonIndentUnit": 4
   },
   "notebookName": "Silver",
   "widgets": {}
  },
  "language_info": {
   "name": "python"
  }
 },
 "nbformat": 4,
 "nbformat_minor": 0
}
